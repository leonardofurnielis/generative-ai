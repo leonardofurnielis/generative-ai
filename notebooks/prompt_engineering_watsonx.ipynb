{
 "cells": [
  {
   "cell_type": "markdown",
   "metadata": {},
   "source": [
    "# Prompt Engineering"
   ]
  },
  {
   "cell_type": "markdown",
   "metadata": {},
   "source": [
    "💡 Prompt engineering is essentially the art and science of crafting well-structured and precise queries that enable AI models to provide accurate, informative and context-aware responses. So feel free to experiment with different prompts to find the one works the best for your use case!  "
   ]
  },
  {
   "cell_type": "markdown",
   "metadata": {},
   "source": [
    "### Contents\n",
    "\n",
    "1. [Setup](#setup_environment)\n",
    "1. [Create the inference function](#inference_function)\n",
    "1. [Tasks](#tasks)\n",
    "    1. [General summarization](#general_summarization)\n",
    "    1. [Sentiment Analysis](#sentiment_analysis)\n",
    "    1. [Basic inference](#basic_inference)\n",
    "    1. [Named entity Extraction](#entity_extraction)\n",
    "    1. [Question and Answering](#question_answering)\n"
   ]
  },
  {
   "cell_type": "markdown",
   "metadata": {},
   "source": [
    "<a id=\"setup_environment\"></a>\n",
    "## 1. Set up the environment"
   ]
  },
  {
   "cell_type": "code",
   "execution_count": null,
   "metadata": {},
   "outputs": [],
   "source": [
    "%pip install -U ibm-watson-machine-learning --quiet"
   ]
  },
  {
   "cell_type": "code",
   "execution_count": null,
   "metadata": {},
   "outputs": [],
   "source": [
    "WML_CREDENTIALS = {\n",
    "    \"url\": \"URL\",\n",
    "    \"apikey\": \"API_KEY\"\n",
    "}"
   ]
  },
  {
   "cell_type": "code",
   "execution_count": null,
   "metadata": {},
   "outputs": [],
   "source": [
    "PROJECT_ID = 'PROJECT_ID'"
   ]
  },
  {
   "cell_type": "markdown",
   "metadata": {},
   "source": [
    "<a id=\"inference_function\"></a>\n",
    "## 2. Create the inference function\n",
    "\n",
    "In this section we define the inference function. "
   ]
  },
  {
   "cell_type": "code",
   "execution_count": null,
   "metadata": {},
   "outputs": [],
   "source": [
    "from ibm_watson_machine_learning.foundation_models import Model\n",
    "\n",
    "class GenAI:\n",
    "    def __init__(self, credentials, project_id):\n",
    "        self.credentials = credentials\n",
    "        self.project_id = project_id\n",
    "\n",
    "    def model(self, model_id, parameters):\n",
    "        self.model = Model(\n",
    "            \tmodel_id = model_id,\n",
    "\t            params = parameters,\n",
    "\t            credentials = self.credentials,\n",
    "\t            project_id = self.project_id\n",
    "        )\n",
    "\n",
    "    def generate(self, prompt_input):\n",
    "        response = self.model.generate_text(prompt=prompt_input)\n",
    "        return response"
   ]
  },
  {
   "cell_type": "markdown",
   "metadata": {},
   "source": [
    "#### List available models\n",
    "\n",
    "All avaliable models are presented under `ModelTypes` class."
   ]
  },
  {
   "cell_type": "code",
   "execution_count": null,
   "metadata": {},
   "outputs": [],
   "source": [
    "from ibm_watson_machine_learning.foundation_models.utils.enums import ModelTypes\n",
    "\n",
    "print([model.value for model in ModelTypes])"
   ]
  },
  {
   "cell_type": "code",
   "execution_count": null,
   "metadata": {},
   "outputs": [],
   "source": [
    "from ibm_watson_machine_learning.metanames import GenTextParamsMetaNames as GenParams\n",
    "from ibm_watson_machine_learning.foundation_models.utils.enums import DecodingMethods\n",
    "\n",
    "parameters = {\n",
    "    GenParams.DECODING_METHOD: DecodingMethods.GREEDY,\n",
    "    GenParams.MAX_NEW_TOKENS: 300,\n",
    "    GenParams.MIN_NEW_TOKENS: 50,\n",
    "    GenParams.STOP_SEQUENCES: [\".\"],\n",
    "    GenParams.REPETITION_PENALTY: 1\n",
    "}"
   ]
  },
  {
   "cell_type": "code",
   "execution_count": null,
   "metadata": {},
   "outputs": [],
   "source": [
    "genai = GenAI(credentials=WML_CREDENTIALS, project_id=PROJECT_ID)\n",
    "\n",
    "genai.model(model_id='meta-llama/llama-2-70b-chat', parameters=parameters)"
   ]
  },
  {
   "cell_type": "markdown",
   "metadata": {},
   "source": [
    "<a id=\"tasks\"></a>\n",
    "## 3. Tasks"
   ]
  },
  {
   "cell_type": "markdown",
   "metadata": {},
   "source": [
    "<a id=\"general_summarization\"></a>\n",
    "### Task 1: General summarization\n",
    "\n",
    "I hope this message finds you well. I am writing to express my deep disappointment\n",
    "and frustration regarding my recent loan application experience with your institution.\n",
    "While I understand that creditworthiness plays a significant role in the approval\n",
    "process, I am troubled by the lack of communication and transparency throughout the\n",
    "entire journey.\n",
    "From the outset, I believed that I had a strong chance of securing the loan I applied for.\n",
    "However, to my surprise and dismay, my loan application was rejected due to my bad\n",
    "credit history. What troubles me most is that this crucial information was not\n",
    "communicated to me by you or any other member of your team. As an applicant, I had\n",
    "a right to be informed promptly about any setbacks or challenges that could potentially\n",
    "impact the outcome of my application.\n",
    "Had I been made aware of the issues with my credit, I could have taken immediate\n",
    "action to rectify the situation. I would have appreciated an open and honest discussion\n",
    "about the concerns surrounding my creditworthiness. Instead, I was left in the dark,\n",
    "unaware that my dreams of obtaining the loan were rapidly fading.\n",
    "Furthermore, the lack of transparency is not the only aspect of this experience that has\n",
    "left me disheartened. Throughout the application process, I provided all the required\n",
    "documentation promptly and diligently. I expected a level of professionalism that\n",
    "would include timely updates and proactive communication regarding the progress of\n",
    "my application. Regrettably, I found myself repeatedly following up for information,\n",
    "only to be met with vague responses and delayed replies.\n",
    "As a valued customer, I expected better treatment from your institution. The failure to\n",
    "inform me about the detrimental impact of my bad credit and the overall lack of\n",
    "communication have not only caused immense frustration but have also wasted\n",
    "valuable time and effort. I trusted your expertise and guidance throughout this\n",
    "process, only to be let down by the absence of effective communication channels.\n",
    "I believe that clear communication is the cornerstone of any successful business\n",
    "relationship. Had I received timely and accurate updates regarding my loan\n",
    "application, I would have been able to explore alternative options or address the credit\n",
    "concerns more proactively. Instead, I was left feeling deceived and abandoned.\n",
    "I sincerely hope that you will take this feedback seriously and reevaluate your internal\n",
    "procedures. Improving communication practices and ensuring transparency will not\n",
    "only enhance the customer experience but also promote trust and loyalty. As a\n",
    "prospective borrower, I genuinely believe in the value of constructive criticism and\n",
    "hope that my feedback will contribute to the improvement of your loan application\n",
    "process.\n",
    "Thank you for your attention to this matter. I trust that you will take the necessary\n",
    "steps to address these concerns and prevent such disappointments from happening in\n",
    "the future.\n",
    "\n",
    "* Sample output (Note: your output may vary)\n",
    "\n",
    "The customer experienced multiple delays in the loan process, which ultimately caused the locked-in interest rate to increase by 5/8 points. However, after raising the issue, the banker managed to reduce it by 1/4 of a point, resulting in a final interest rate that was 3/8 of a point higher than the initial agreement, but the mortgage was successfully completed."
   ]
  },
  {
   "cell_type": "code",
   "execution_count": null,
   "metadata": {},
   "outputs": [],
   "source": [
    "review_text = \"\"\"\n",
    "I hope this message finds you well. I am writing to express my deep disappointment\n",
    "and frustration regarding my recent loan application experience with your institution.\n",
    "While I understand that creditworthiness plays a significant role in the approval\n",
    "process, I am troubled by the lack of communication and transparency throughout the\n",
    "entire journey.\n",
    "From the outset, I believed that I had a strong chance of securing the loan I applied for.\n",
    "However, to my surprise and dismay, my loan application was rejected due to my bad\n",
    "credit history. What troubles me most is that this crucial information was not\n",
    "communicated to me by you or any other member of your team. As an applicant, I had\n",
    "a right to be informed promptly about any setbacks or challenges that could potentially\n",
    "impact the outcome of my application.\n",
    "Had I been made aware of the issues with my credit, I could have taken immediate\n",
    "action to rectify the situation. I would have appreciated an open and honest discussion\n",
    "about the concerns surrounding my creditworthiness. Instead, I was left in the dark,\n",
    "unaware that my dreams of obtaining the loan were rapidly fading.\n",
    "Furthermore, the lack of transparency is not the only aspect of this experience that has\n",
    "left me disheartened. Throughout the application process, I provided all the required\n",
    "documentation promptly and diligently. I expected a level of professionalism that\n",
    "would include timely updates and proactive communication regarding the progress of\n",
    "my application. Regrettably, I found myself repeatedly following up for information,\n",
    "only to be met with vague responses and delayed replies.\n",
    "As a valued customer, I expected better treatment from your institution. The failure to\n",
    "inform me about the detrimental impact of my bad credit and the overall lack of\n",
    "communication have not only caused immense frustration but have also wasted\n",
    "valuable time and effort. I trusted your expertise and guidance throughout this\n",
    "process, only to be let down by the absence of effective communication channels.\n",
    "I believe that clear communication is the cornerstone of any successful business\n",
    "relationship. Had I received timely and accurate updates regarding my loan\n",
    "application, I would have been able to explore alternative options or address the credit\n",
    "concerns more proactively. Instead, I was left feeling deceived and abandoned.\n",
    "I sincerely hope that you will take this feedback seriously and reevaluate your internal\n",
    "procedures. Improving communication practices and ensuring transparency will not\n",
    "only enhance the customer experience but also promote trust and loyalty. As a\n",
    "prospective borrower, I genuinely believe in the value of constructive criticism and\n",
    "hope that my feedback will contribute to the improvement of your loan application\n",
    "process.\n",
    "Thank you for your attention to this matter. I trust that you will take the necessary\n",
    "steps to address these concerns and prevent such disappointments from happening in\n",
    "the future.\n",
    "\"\"\""
   ]
  },
  {
   "cell_type": "code",
   "execution_count": null,
   "metadata": {},
   "outputs": [],
   "source": [
    "prompt_input = f\"\"\"\n",
    "Your taks is to summarize the customer feedback text delimited with \"\".\n",
    "\n",
    "Text: \"\"{review_text}\"\"\n",
    "\n",
    "Summary:\n",
    "\"\"\""
   ]
  },
  {
   "cell_type": "code",
   "execution_count": null,
   "metadata": {},
   "outputs": [],
   "source": [
    "generated_response = genai.generate(prompt_input)\n",
    "print(generated_response)"
   ]
  },
  {
   "cell_type": "markdown",
   "metadata": {},
   "source": [
    "<a id=\"sentiment_analysis\"></a>\n",
    "### Task 2: Sentiment Analysis\n",
    "\n",
    "Needed a nice lamp for my bedroom, and this one had additional storage and not too high of a price point. Got it fast.  The string to our lamp broke during the transit and the company happily sent over a new one. Came within a few days as well. It was easy to put together.  I had a missing part, so I contacted their support and they very quickly got me the missing piece! Lumina seems to me to be a great company that cares about their customers and products!!\n",
    "\n",
    "* Expected output: \n",
    "\n",
    "positive"
   ]
  },
  {
   "cell_type": "code",
   "execution_count": null,
   "metadata": {},
   "outputs": [],
   "source": [
    "text_sentiment = \"\"\"Needed a nice lamp for my bedroom, and this one had \\\n",
    "additional storage and not too high of a price point. \\\n",
    "Got it fast.  The string to our lamp broke during the \\\n",
    "transit and the company happily sent over a new one. \\\n",
    "Came within a few days as well. It was easy to put \\\n",
    "together.  I had a missing part, so I contacted their \\\n",
    "support and they very quickly got me the missing piece! \\\n",
    "Lumina seems to me to be a great company that cares \\\n",
    "about their customers and products!!\"\"\""
   ]
  },
  {
   "cell_type": "code",
   "execution_count": null,
   "metadata": {},
   "outputs": [],
   "source": [
    "prompt_input = f\"\"\"\n",
    "Classify the sentiment of review text delimited with \"\" to \"positive\" or \"negative\".\n",
    "\n",
    "Review: \"\"{text_sentiment}\"\"\n",
    "\n",
    "Sentiment: \n",
    "\"\"\""
   ]
  },
  {
   "cell_type": "code",
   "execution_count": null,
   "metadata": {},
   "outputs": [],
   "source": [
    "generated_response = genai.generate(prompt_input)\n",
    "print(generated_response)"
   ]
  },
  {
   "cell_type": "markdown",
   "metadata": {},
   "source": [
    "<a id=\"basic_inference\"></a>\n",
    "### Task 3: Basic inference\n",
    " - less than 5.7 no diabetes\n",
    " - between 5.7 and 6.5 pre-diabetes\n",
    " - greater than 6.5 diabetic.\n",
    "\n",
    "Write a prompt to return just the diabetes status from the following 3 test cases:\n",
    "\n",
    "1)\tThe patients a1c is 5.5 which is good considering his other risk factors.\n",
    "2)\tFrom the last lab report I noted the A1c is 6.4 so we need to put her on Ozempic.\n",
    "3)\tShe mentioned her A1c is 8 according to her blood work about 3 years ago.\n"
   ]
  },
  {
   "cell_type": "code",
   "execution_count": null,
   "metadata": {},
   "outputs": [],
   "source": [
    "prompt_input = f\"\"\"\n",
    "Context:\n",
    "Patient with a1c less then 5.7 is: \"no diabetes.\"\n",
    "Patient with a1c is between 5.7 and 6.5 is: \"pre-diabetes.\"\n",
    "Patient with a1c greater 6.5 is: \"diabetic.\"\n",
    "\n",
    "Your task is:\n",
    "- Extract the a1c from given text delimited with \"\".\n",
    "- Classify the given text delimited with \"\" to \"no diabetes\", \"pre-diabetes\" or \"diabetic\", use given Context to classify.\n",
    "- Answer as JSON format with the keys: \"a1c_value\", \"class\".\n",
    "\n",
    "Input: \"\"The patients a1c is 4.5\"\"\n",
    "Output: {{ a1c_value: 4.5, class: \"no diabetes\" }}\n",
    "\n",
    "Input: \"\"The patient report noted the a1c 6.0.\"\"\n",
    "Output: {{ a1c_value: 6.0, class: \"pre-diabetes\" }}\n",
    "\n",
    "Input: \"\"her A1c is 8\"\"\n",
    "Output: {{ a1c_value: 8, class: \"diabetic\" }}\n",
    "\n",
    "Input: \"\"From the lab report your a1c is 5.8.\"\"\n",
    "Output: {{ a1c_value: 5.8, class: \"pre-diabetes\" }}\n",
    "\n",
    "Input: \"\"From the lab report the patient a1c 7\"\"\n",
    "Output: {{ a1c_value: 7, class: \"diabetic\" }}\n",
    "\n",
    "Input: \"\"From the last lab report I noted the A1c is 6.4 so we need to put her on Ozempic.\"\"\n",
    "Output:\n",
    "\"\"\""
   ]
  },
  {
   "cell_type": "code",
   "execution_count": null,
   "metadata": {},
   "outputs": [],
   "source": [
    "generated_response = genai.generate(prompt_input)\n",
    "print(generated_response)"
   ]
  },
  {
   "cell_type": "markdown",
   "metadata": {},
   "source": [
    "<a id=\"entity_extraction\"></a>\n",
    "### Task 4: Named entity Extraction\n",
    "\n",
    "The insured vehicle, a Tesla Model S, was parked outside on Astor Place, New York on April 15th, 2023 when an unexpected and violent hailstorm struck the area.\\n Hailstones of varying sizes, ranging from small pellets to large golf balls, rained down on the vehicle with relentless force. The impact of the hailstones caused extensive damage to the exterior of the vehicle, leaving behind a multitude of dents and dings on the roof, hood, trunk, and all sides.\\n The hailstones were so powerful that they shattered the windshield and side windows, resulting in shattered glass fragments scattered throughout the interior of the vehicle. The insured immediately contacted their insurance company to report the incident and initiated the claims process.\\n Recognizing the severity of the damage, the insurance company promptly dispatched an experienced auto appraiser to assess the extent of the hail damage.\\nThe appraiser meticulously inspected the vehicle, documenting each dent, ding, and broken window. Based on their assessment, the appraiser estimated the cost of repairs, taking into account the need for paintless dent removal, panel replacements, windshield replacement, and window repairs. With the appraisal report in hand, the insured is now filing a comprehensive claim for the necessary repairs.\\n Along with the report, the insured is submitting detailed photographs of the damaged vehicle from multiple angles, capturing the extent of the hail damage.\\nThe insured understands the importance of providing compelling evidence to support their claim and has meticulously documented the damage. They are also including any additional information or documentation requested by the insurance company. The insured is eagerly awaiting the outcome of their claim, hopeful that the insurance company will process it promptly.\\nThey recognize that the repairs required to restore their beloved Tesla Model S to its pre-hailstorm condition will be extensive and costly. However, they have confidence in the insurance company's commitment to providing the necessary coverage and support. Their ultimate goal is to see their vehicle restored to its original beauty and performance, ready to hit the road once again, unaffected by the devastating hailstorm.\n",
    "\n",
    "* Expected output:\n",
    "\n",
    "```\n",
    "{\n",
    "    \"Car Make and Model\": \"Tesla Model S\",\n",
    "    \"Location\": \"Astor Place, New York\",\n",
    "    \"Date\": \"April 15th, 2023\",\n",
    "    \"Time\": \"Not Found\"\n",
    "}\n",
    "\n",
    "```"
   ]
  },
  {
   "cell_type": "code",
   "execution_count": null,
   "metadata": {},
   "outputs": [],
   "source": [
    "named_extraction = \"The insured vehicle, a Tesla Model S, was parked outside on Astor Place, New York on April 15th, 2023 when an unexpected and violent hailstorm struck the area.\\n Hailstones of varying sizes, ranging from small pellets to large golf balls, rained down on the vehicle with relentless force. The impact of the hailstones caused extensive damage to the exterior of the vehicle, leaving behind a multitude of dents and dings on the roof, hood, trunk, and all sides.\\n The hailstones were so powerful that they shattered the windshield and side windows, resulting in shattered glass fragments scattered throughout the interior of the vehicle. The insured immediately contacted their insurance company to report the incident and initiated the claims process.\\n Recognizing the severity of the damage, the insurance company promptly dispatched an experienced auto appraiser to assess the extent of the hail damage.\\nThe appraiser meticulously inspected the vehicle, documenting each dent, ding, and broken window. Based on their assessment, the appraiser estimated the cost of repairs, taking into account the need for paintless dent removal, panel replacements, windshield replacement, and window repairs. With the appraisal report in hand, the insured is now filing a comprehensive claim for the necessary repairs.\\n Along with the report, the insured is submitting detailed photographs of the damaged vehicle from multiple angles, capturing the extent of the hail damage.\\nThe insured understands the importance of providing compelling evidence to support their claim and has meticulously documented the damage. They are also including any additional information or documentation requested by the insurance company. The insured is eagerly awaiting the outcome of their claim, hopeful that the insurance company will process it promptly.\\nThey recognize that the repairs required to restore their beloved Tesla Model S to its pre-hailstorm condition will be extensive and costly. However, they have confidence in the insurance company's commitment to providing the necessary coverage and support. Their ultimate goal is to see their vehicle restored to its original beauty and performance, ready to hit the road once again, unaffected by the devastating hailstorm.\""
   ]
  },
  {
   "cell_type": "code",
   "execution_count": null,
   "metadata": {},
   "outputs": [],
   "source": [
    "prompt_input = f\"\"\"\n",
    "Read this Insurance Claim description and extract the Car make and model, Location of the incident like street and Date and time if there is any mentioned. If you don't find these details in the description, please fill it as Not Found.\n",
    "\n",
    "- Answer as JSON with the keys: \"Car_Make_Model\", \"Location\", \"Date\", \"Time\"\n",
    "\n",
    "Insurance Claim: {named_extraction}\n",
    "\n",
    "Output: \n",
    "\"\"\""
   ]
  },
  {
   "cell_type": "code",
   "execution_count": null,
   "metadata": {},
   "outputs": [],
   "source": [
    "generated_response = genai.generate(prompt_input)\n",
    "print(generated_response)"
   ]
  },
  {
   "cell_type": "markdown",
   "metadata": {},
   "source": [
    "<a id=\"question_answering\"></a>\n",
    "### Task 5: Question and Answering\n",
    "\n",
    "* Write a prompt to get the model to answer a question based on the following Exclusions section from an auto insurance policy. \n",
    "\n",
    "```\n",
    "The Insurance Company will not pay for any damages an insured\n",
    "person is legally obligated to pay because of:\n",
    "\n",
    "1. bodily injury or property damage arising out of\n",
    "the use of your insured auto while used to carry\n",
    "persons or property for a charge, or any auto\n",
    "you are driving while available for hire by the\n",
    "public to the extent that the limits of liability for\n",
    "this coverage exceed the limits of liability\n",
    "required by the Nevada financial responsibility\n",
    "law. This exclusion does not apply to shared\n",
    "expense car pools.\n",
    "\n",
    "2. bodily injury or property damage arising out of\n",
    "the use of a non-owned auto in any business or\n",
    "occupation of an insured person to the extent\n",
    "that the limits of liability for this coverage exceed\n",
    "the limits of liability required by the Nevada\n",
    "financial responsibility law. However, this\n",
    "exclusion does not apply while you, your\n",
    "chauffeur, or domestic servant are using a\n",
    "private passenger auto or trailer.\n",
    "\n",
    "3. bodily injury to an employee of any insured\n",
    "person arising in the course of employment.\n",
    "This exclusion does not apply to your domestic employee \n",
    "who is not required to be covered by\n",
    "a workers compensation law or similar law.\n",
    "\n",
    "4. bodily injury to a co-worker injured in the\n",
    "course of employment. This exclusion does not\n",
    "apply to you.\n",
    "\n",
    "5. bodily injury to you or any resident of your\n",
    "household related to you by blood, marriage, or\n",
    "adoption to the extent that the limits of liability\n",
    "for this coverage exceed the limits of liability\n",
    "required by the Nevada financial responsibility\n",
    "law.\n",
    "\n",
    "6. damage to or destruction of property an insured\n",
    "person owns, transports, is in charge of, or\n",
    "rents. However, a private residence or a garage\n",
    "rented by that person is covered.\n",
    "\n",
    "7. bodily injury or property damage which may\n",
    "reasonably be expected to result from the\n",
    "intentional acts of an insured person or which\n",
    "are in fact intended by an insured person to the\n",
    "extent that the limits of liability for this coverage\n",
    "exceed the limits of liability required by the\n",
    "Nevada financial responsibility law.\n",
    "\n",
    "8. bodily injury or property damage which would\n",
    "also be covered under nuclear energy liability\n",
    "insurance to the extent that the limits of liability\n",
    "for this coverage exceed the limits of liability\n",
    "required by the Nevada financial responsibility\n",
    "law. This applies even if the limits of that\n",
    "insurance are exhausted.\n",
    "```\n",
    "\n",
    "* You can come up with your own questions, here are some examples:\n",
    "```\n",
    "- Will this policy cover me if I use my personal vehicle for business purposes?\n",
    "- Does this policy cover me if I get into an accident while driving for a ride-sharing company?\n",
    "- Does this policy cover injuries to my family members?\n",
    "```"
   ]
  },
  {
   "cell_type": "code",
   "execution_count": null,
   "metadata": {},
   "outputs": [],
   "source": [
    "qa_context = \"\"\"\n",
    "The Insurance Company will not pay for any damages an insured\n",
    "person is legally obligated to pay because of:\n",
    "\n",
    "1. bodily injury or property damage arising out of\n",
    "the use of your insured auto while used to carry\n",
    "persons or property for a charge, or any auto\n",
    "you are driving while available for hire by the\n",
    "public to the extent that the limits of liability for\n",
    "this coverage exceed the limits of liability\n",
    "required by the Nevada financial responsibility\n",
    "law. This exclusion does not apply to shared\n",
    "expense car pools.\n",
    "\n",
    "2. bodily injury or property damage arising out of\n",
    "the use of a non-owned auto in any business or\n",
    "occupation of an insured person to the extent\n",
    "that the limits of liability for this coverage exceed\n",
    "the limits of liability required by the Nevada\n",
    "financial responsibility law. However, this\n",
    "exclusion does not apply while you, your\n",
    "chauffeur, or domestic servant are using a\n",
    "private passenger auto or trailer.\n",
    "\n",
    "3. bodily injury to an employee of any insured\n",
    "person arising in the course of employment.\n",
    "This exclusion does not apply to your domestic employee \n",
    "who is not required to be covered by\n",
    "a workers compensation law or similar law.\n",
    "\n",
    "4. bodily injury to a co-worker injured in the\n",
    "course of employment. This exclusion does not\n",
    "apply to you.\n",
    "\n",
    "5. bodily injury to you or any resident of your\n",
    "household related to you by blood, marriage, or\n",
    "adoption to the extent that the limits of liability\n",
    "for this coverage exceed the limits of liability\n",
    "required by the Nevada financial responsibility\n",
    "law.\n",
    "\n",
    "6. damage to or destruction of property an insured\n",
    "person owns, transports, is in charge of, or\n",
    "rents. However, a private residence or a garage\n",
    "rented by that person is covered.\n",
    "\n",
    "7. bodily injury or property damage which may\n",
    "reasonably be expected to result from the\n",
    "intentional acts of an insured person or which\n",
    "are in fact intended by an insured person to the\n",
    "extent that the limits of liability for this coverage\n",
    "exceed the limits of liability required by the\n",
    "Nevada financial responsibility law.\n",
    "\n",
    "8. bodily injury or property damage which would\n",
    "also be covered under nuclear energy liability\n",
    "insurance to the extent that the limits of liability\n",
    "for this coverage exceed the limits of liability\n",
    "required by the Nevada financial responsibility\n",
    "law. This applies even if the limits of that\n",
    "insurance are exhausted.\n",
    "\"\"\""
   ]
  },
  {
   "cell_type": "code",
   "execution_count": null,
   "metadata": {},
   "outputs": [],
   "source": [
    "question = \"Will this policy cover me if I use my personal vehicle for business purposes?\""
   ]
  },
  {
   "cell_type": "code",
   "execution_count": null,
   "metadata": {},
   "outputs": [],
   "source": [
    "prompt_input = f\"\"\"\n",
    "Context: {qa_context}\n",
    "\n",
    "Answer the Question based on the given context. If you don't find answer, please respond with \"I don't know\".\n",
    "\n",
    "Question: {question}\n",
    "\n",
    "Answer: \n",
    "\"\"\""
   ]
  },
  {
   "cell_type": "code",
   "execution_count": null,
   "metadata": {},
   "outputs": [],
   "source": [
    "generated_response = genai.generate(prompt_input)\n",
    "print(generated_response)"
   ]
  },
  {
   "cell_type": "markdown",
   "metadata": {},
   "source": []
  }
 ],
 "metadata": {
  "kernelspec": {
   "display_name": "Python 3",
   "language": "python",
   "name": "python3"
  },
  "language_info": {
   "codemirror_mode": {
    "name": "ipython",
    "version": 3
   },
   "file_extension": ".py",
   "mimetype": "text/x-python",
   "name": "python",
   "nbconvert_exporter": "python",
   "pygments_lexer": "ipython3",
   "version": "3.10.11"
  }
 },
 "nbformat": 4,
 "nbformat_minor": 2
}
